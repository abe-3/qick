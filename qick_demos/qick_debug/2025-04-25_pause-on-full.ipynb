{
 "cells": [
  {
   "cell_type": "markdown",
   "id": "c82f764f",
   "metadata": {},
   "source": [
    "# possible bug: core execution does not pause when dispatcher FIFO is full\n",
    "\n",
    "Each tProc v2 dispatcher output (waveform, data, or trigger output) has a FIFO, which by default is 512 words deep (`FIFO_DEPTH=9` https://github.com/awsch/qick-spin/blob/a76ab8dc0f4c3975af3ce6416b3a1b4d5bc77fbf/firmware/ip/qick_processor/src/axis_qick_processor.sv#L33). \n",
    "These FIFOs are filled as the program is executed, and empty as each pulse's scheduled time is reached.\n",
    "A program that schedules a lot of pulses can fill up one of the FIFOs faster than the pulses get played.\n",
    "\n",
    "The tProc is supposed to pause execution when any of the FIFOs is full. This was the behavior in tProc v1; in v2 there is a config flag that is supposed to control this behavior (but the default is to pause).\n",
    "The manual describes this as \"D_FIFO: Disable FIFO_FULL_PAUSE (default 0: used for Debug purpose)\" - it says it's bit 10, but it's bit 11: https://github.com/awsch/qick-spin/blob/a76ab8dc0f4c3975af3ce6416b3a1b4d5bc77fbf/firmware/ip/qick_processor/src/qick_processor.sv#L215.\n",
    "\n",
    "Anyway, it appears that this behavior doesn't actually work; the tProc does not pause-on-full, so fast sequences with more than 512 pulses on a single generator may lose the later pulses."
   ]
  },
  {
   "cell_type": "code",
   "execution_count": null,
   "id": "68f41a03",
   "metadata": {},
   "outputs": [],
   "source": [
    "import numpy as np\n",
    "from tqdm.notebook import tqdm\n",
    "from qick import *\n",
    "import matplotlib.pyplot as plt\n",
    "from qick.asm_v2 import AveragerProgramV2\n",
    "from qick.asm_v2 import QickSweep1D"
   ]
  },
  {
   "cell_type": "code",
   "execution_count": null,
   "id": "252a0761",
   "metadata": {
    "scrolled": false
   },
   "outputs": [],
   "source": [
    "# soc = QickSoc('/data/fw/2024-09-29_111_tprocv2r21_standard/qick_111.bit')\n",
    "# soc = QickSoc('/home/xilinx/jupyter_notebooks/fw/qick_tprocv2_111_standard_repo/qick_111.bit')\n",
    "# soc = QickSoc('/home/xilinx/jupyter_notebooks/fw/qick_tprocv2_111_standard_1ch/qick_111.bit')\n",
    "soc = QickSoc('/home/xilinx/jupyter_notebooks/fw/qick_tprocv2_111_standard_1ch_tproc_debug/qick_111.bit')\n",
    "# soc = QickSoc('/home/xilinx/jupyter_notebooks/fw/qick_tprocv2_111_standard_1ch_tproc_debug_2/qick_111.bit')\n",
    "soccfg = soc\n",
    "\n",
    "print(soccfg)"
   ]
  },
  {
   "cell_type": "code",
   "execution_count": null,
   "id": "15fdfc37",
   "metadata": {},
   "outputs": [],
   "source": [
    "# Start Debug Bridge Server if present\n",
    "\n",
    "try:\n",
    "    bridge = soc._get_block('debug_bridge_0')\n",
    "    # bridge_bak = getattr(soc,'debug_wrapper/debug_bridge_0') # another way to access the object\n",
    "    # print(bridge)\n",
    "    # bridge?\n",
    "\n",
    "    bridge.start_xvc_server(bufferLen=4096, serverAddress=\"0.0.0.0\", serverPort=2542, reconnect=True, verbose=True)\n",
    "\n",
    "except:\n",
    "    print('Debug blocks not found')\n"
   ]
  },
  {
   "cell_type": "code",
   "execution_count": null,
   "id": "530ed2aa",
   "metadata": {},
   "outputs": [],
   "source": [
    "hardware = {\n",
    "        \"drive_ch\": 1,\n",
    "        \"ro_adc_ch\": 0\n",
    "    }"
   ]
  },
  {
   "cell_type": "markdown",
   "id": "89827c21",
   "metadata": {},
   "source": [
    "## example\n",
    "This example plays 1000 short pulses and reads them out using the DDR4 buffer. The last two lines in the body slow down tProc execution to avoid FIFO overflow. If you comment them out, you will see that only half of the pulses get played.\n",
    "\n",
    "Later on there is a test of setting the FIFO_FULL_PAUSE flag. This should disable pause-on-full, but it really seems that pause-on-full does not work regardless of the value of the flag."
   ]
  },
  {
   "cell_type": "code",
   "execution_count": null,
   "id": "36d15c47",
   "metadata": {},
   "outputs": [],
   "source": [
    "class ManyPulseProg(AveragerProgramV2):\n",
    "    def _initialize(self, cfg):  \n",
    "        ro_ch = cfg[\"ro_adc_ch\"]\n",
    "        gen_ch = cfg[\"drive_ch\"]\n",
    "\n",
    "        self.declare_gen(ch=gen_ch, nqz=cfg['nqz_drive'])\n",
    "        self.declare_readout(ch=ro_ch, length=cfg['readout_length'])\n",
    "        self.add_readoutconfig(ch=ro_ch, name=\"myro\", freq=cfg['frequency_drive'], gen_ch=gen_ch)\n",
    "        self.add_pulse(ch=gen_ch, name=\"pulse10\", ro_ch=ro_ch, \n",
    "                   style=\"const\", \n",
    "                   freq=cfg['frequency_drive'], \n",
    "                   length=cfg['len_drive'],\n",
    "                   phase=0,\n",
    "                   gain=1, \n",
    "                  )\n",
    "\n",
    "        self.send_readoutconfig(ch=cfg['ro_adc_ch'], name=\"myro\", t=0)\n",
    "        self.delay(1.0) # create some execution slack for the trigger\n",
    "        self.trigger(ddr4=True, t=0)\n",
    "        \n",
    "    def _body(self, cfg):\n",
    "        for p in range(cfg['n_drive']):\n",
    "            t = cfg['initial_drive'] + p*(cfg['len_drive']+cfg['gap_drive'])\n",
    "            self.pulse(ch=cfg['drive_ch'], name = 'pulse10', t=t, tag=\"drivepulse%d\"%(p))\n",
    "            \n",
    "            # if tProc execution gets too far ahead of the timeline, the pulse dispatcher will fill up\n",
    "            # so: periodically insert a wait, to limit the execution slack to ~initial_drive\n",
    "            # this is a dumb hack and you should not blindly reuse this (or use this ever, probably)\n",
    "            # it's just a way to prove that we are seeing dispatcher overflow\n",
    "            if cfg['wait_hack'] and p%100==0:\n",
    "                self.wait(p*(cfg['len_drive']+cfg['gap_drive']))"
   ]
  },
  {
   "cell_type": "code",
   "execution_count": null,
   "id": "84410211",
   "metadata": {},
   "outputs": [],
   "source": [
    "n = 1000\n",
    "initial_start = 50\n",
    "gap_between_pulses = 0.1\n",
    "pulse_len = 0.1\n",
    "\n",
    "drive = {\n",
    "    \"frequency_drive\": 500,\n",
    "    \"nqz_drive\":1,\n",
    "    'initial_drive':initial_start,\n",
    "    'len_drive':pulse_len,\n",
    "    'gap_drive':gap_between_pulses,\n",
    "    'n_drive':n,\n",
    "}\n",
    "expt_config = {\n",
    "    \"wait_hack\": False,\n",
    "    \"readout_length\":5, # this is not actually used, we don't use the regular buffer\n",
    "}\n",
    "config = {**hardware, **drive, **expt_config}"
   ]
  },
  {
   "cell_type": "code",
   "execution_count": null,
   "id": "451d9ae5",
   "metadata": {},
   "outputs": [],
   "source": [
    "config['wait_hack'] = False\n",
    "soc.tproc.tproc_cfg = 0 # this is the default - just making sure\n",
    "n_transfers = 2000\n",
    "soc.arm_ddr4(ch=config['ro_adc_ch'], nt=n_transfers)\n",
    "prog = ManyPulseProg(soccfg, reps=1, final_delay=10, cfg=config)\n",
    "\n",
    "prog.run_rounds(soc, rounds=1)\n",
    "\n",
    "# soc.tproc.print_debug()\n",
    "\n",
    "iq_ddr4 = soc.get_ddr4(n_transfers)\n",
    "t = prog.get_time_axis_ddr4(config['ro_adc_ch'], iq_ddr4)\n",
    "\n",
    "fig = plt.figure()\n",
    "plt.plot(t, iq_ddr4[:,0])\n",
    "plt.plot(t, iq_ddr4[:,1])\n",
    "plt.xlim([initial_start-5,initial_start + n*(pulse_len+gap_between_pulses)+10])\n",
    "# if all the pulses play, they should mostly fill the plot range\n"
   ]
  },
  {
   "cell_type": "code",
   "execution_count": null,
   "id": "c9c8b690",
   "metadata": {
    "scrolled": true
   },
   "outputs": [],
   "source": [
    "## Do not forget to stop the XVC server once you finish.\n",
    "bridge.stop_xvc_server()\n"
   ]
  },
  {
   "cell_type": "code",
   "execution_count": null,
   "id": "63eee1f0",
   "metadata": {},
   "outputs": [],
   "source": [
    "print(prog)"
   ]
  },
  {
   "cell_type": "code",
   "execution_count": null,
   "id": "0f32b742",
   "metadata": {},
   "outputs": [],
   "source": [
    "prog.print_pmem2hex()"
   ]
  },
  {
   "cell_type": "code",
   "execution_count": null,
   "id": "923916f9",
   "metadata": {},
   "outputs": [],
   "source": [
    "prog.print_wmem2hex()"
   ]
  },
  {
   "cell_type": "code",
   "execution_count": null,
   "id": "88d84fba",
   "metadata": {},
   "outputs": [],
   "source": [
    "fig = plt.figure()\n",
    "plt.plot(t, iq_ddr4[:,0])\n",
    "plt.plot(t, iq_ddr4[:,1])\n",
    "plt.xlim([initial_start-5,initial_start + n*(pulse_len+gap_between_pulses)+10])\n",
    "# if all the pulses play, they should mostly fill the plot range"
   ]
  },
  {
   "cell_type": "code",
   "execution_count": null,
   "id": "2239a040",
   "metadata": {},
   "outputs": [],
   "source": [
    "# zooming in on the first few pulses, to check spacing\n",
    "fig.axes[0].set_xlim([50,55])\n",
    "fig"
   ]
  },
  {
   "cell_type": "code",
   "execution_count": null,
   "id": "d00669bf",
   "metadata": {
    "scrolled": true
   },
   "outputs": [],
   "source": [
    "# print as-compiled pulse times\n",
    "for i in range(10):\n",
    "    print(prog.get_time_param('drivepulse%d'%(i), 't'))"
   ]
  },
  {
   "cell_type": "code",
   "execution_count": null,
   "id": "bb18b51b",
   "metadata": {},
   "outputs": [],
   "source": [
    "config['wait_hack'] = True\n",
    "\n",
    "n_transfers = 2000\n",
    "soc.arm_ddr4(ch=config['ro_adc_ch'], nt=n_transfers)\n",
    "prog = ManyPulseProg(soccfg, reps=1, final_delay=10, cfg=config)\n",
    "iq_list = prog.run_rounds(soc, rounds=1)\n",
    "iq_ddr4 = soc.get_ddr4(n_transfers)\n",
    "t = prog.get_time_axis_ddr4(config['ro_adc_ch'], iq_ddr4)\n",
    "\n",
    "fig = plt.figure()\n",
    "plt.plot(t, iq_ddr4[:,0])\n",
    "plt.plot(t, iq_ddr4[:,1])\n",
    "plt.xlim([initial_start-5,initial_start + n*(pulse_len+gap_between_pulses)+10])"
   ]
  },
  {
   "cell_type": "code",
   "execution_count": null,
   "id": "98a047e7",
   "metadata": {},
   "outputs": [],
   "source": [
    "config['wait_hack'] = False\n",
    "\n",
    "soc.tproc.tproc_cfg = 1 << 11 # this should disable pause-on-full\n",
    "print(\"setting tproc_cfg to\", soc.tproc.tproc_cfg)\n",
    "\n",
    "n_transfers = 2000\n",
    "soc.arm_ddr4(ch=config['ro_adc_ch'], nt=n_transfers)\n",
    "prog = ManyPulseProg(soccfg, reps=1, final_delay=10, cfg=config)\n",
    "iq_list = prog.run_rounds(soc, rounds=1)\n",
    "iq_ddr4 = soc.get_ddr4(n_transfers)\n",
    "t = prog.get_time_axis_ddr4(config['ro_adc_ch'], iq_ddr4)\n",
    "\n",
    "# print to confirm that tproc_cfg didn't get changed by the library\n",
    "print(\"after run, tproc_cfg is\", soc.tproc.tproc_cfg)\n",
    "\n",
    "fig = plt.figure()\n",
    "plt.plot(t, iq_ddr4[:,0])\n",
    "plt.plot(t, iq_ddr4[:,1])\n",
    "plt.xlim([initial_start-5,initial_start + n*(pulse_len+gap_between_pulses)+10])"
   ]
  }
 ],
 "metadata": {
  "kernelspec": {
   "display_name": "Python 3 (ipykernel)",
   "language": "python",
   "name": "python3"
  },
  "language_info": {
   "codemirror_mode": {
    "name": "ipython",
    "version": 3
   },
   "file_extension": ".py",
   "mimetype": "text/x-python",
   "name": "python",
   "nbconvert_exporter": "python",
   "pygments_lexer": "ipython3",
   "version": "3.10.4"
  }
 },
 "nbformat": 4,
 "nbformat_minor": 5
}
